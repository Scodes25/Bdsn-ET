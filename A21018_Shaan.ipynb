{
  "nbformat": 4,
  "nbformat_minor": 0,
  "metadata": {
    "colab": {
      "name": "_C21018_Wajahat_BDSN End Term.ipynb",
      "provenance": [],
      "collapsed_sections": [],
      "toc_visible": true
    },
    "kernelspec": {
      "name": "python3",
      "display_name": "Python 3"
    },
    "language_info": {
      "name": "python"
    }
  },
  "cells": [
    {
      "cell_type": "markdown",
      "metadata": {
        "id": "QTBj7WdJMsiE"
      },
      "source": [
        "#Installing Spark\n"
      ]
    },
    {
      "cell_type": "code",
      "metadata": {
        "id": "oa3YjHkUflh8"
      },
      "source": [
        "!apt-get update > /dev/null\n",
        "!apt-get install openjdk-8-jdk-headless -qq > /dev/null"
      ],
      "execution_count": null,
      "outputs": []
    },
    {
      "cell_type": "code",
      "metadata": {
        "id": "UtFaQmk7gkX5"
      },
      "source": [
        "!wget -q http://apache.osuosl.org/spark/spark-3.1.2/spark-3.1.2-bin-hadoop3.2.tgz"
      ],
      "execution_count": null,
      "outputs": []
    },
    {
      "cell_type": "code",
      "metadata": {
        "id": "b2R1QXWyhlAZ"
      },
      "source": [
        "!tar xf spark-3.1.2-bin-hadoop3.2.tgz\n",
        "!pip install -q findspark"
      ],
      "execution_count": null,
      "outputs": []
    },
    {
      "cell_type": "code",
      "metadata": {
        "id": "sanNxYRJh4uj"
      },
      "source": [
        "import os\n",
        "os.environ[\"JAVA_HOME\"] = \"/usr/lib/jvm/java-8-openjdk-amd64\"\n",
        "os.environ[\"SPARK_HOME\"] = \"/content/spark-3.1.2-bin-hadoop3.2\""
      ],
      "execution_count": null,
      "outputs": []
    },
    {
      "cell_type": "code",
      "metadata": {
        "id": "HylCPKEIh8i-"
      },
      "source": [
        "import findspark\n",
        "findspark.init()"
      ],
      "execution_count": null,
      "outputs": []
    },
    {
      "cell_type": "code",
      "metadata": {
        "colab": {
          "base_uri": "https://localhost:8080/",
          "height": 214
        },
        "id": "nJ_HxeCZiAvb",
        "outputId": "9ced76c6-2070-4363-e692-3d9c7aa44b7a"
      },
      "source": [
        "from pyspark.sql import SparkSession\n",
        "spark = SparkSession.builder.master(\"local[*]\").config('spark.ui.port', '4050').getOrCreate()\n",
        "spark"
      ],
      "execution_count": null,
      "outputs": [
        {
          "output_type": "execute_result",
          "data": {
            "text/html": [
              "\n",
              "            <div>\n",
              "                <p><b>SparkSession - in-memory</b></p>\n",
              "                \n",
              "        <div>\n",
              "            <p><b>SparkContext</b></p>\n",
              "\n",
              "            <p><a href=\"http://2cc880abbf0b:4050\">Spark UI</a></p>\n",
              "\n",
              "            <dl>\n",
              "              <dt>Version</dt>\n",
              "                <dd><code>v3.1.2</code></dd>\n",
              "              <dt>Master</dt>\n",
              "                <dd><code>local[*]</code></dd>\n",
              "              <dt>AppName</dt>\n",
              "                <dd><code>pyspark-shell</code></dd>\n",
              "            </dl>\n",
              "        </div>\n",
              "        \n",
              "            </div>\n",
              "        "
            ],
            "text/plain": [
              "<pyspark.sql.session.SparkSession at 0x7f8b46b95150>"
            ]
          },
          "metadata": {
            "tags": []
          },
          "execution_count": 46
        }
      ]
    },
    {
      "cell_type": "code",
      "metadata": {
        "id": "_dnEHBS1iDV_"
      },
      "source": [
        "sc = spark.sparkContext\n",
        "from pyspark.sql import SQLContext\n",
        "sqlContext = SQLContext(sc)"
      ],
      "execution_count": null,
      "outputs": []
    },
    {
      "cell_type": "markdown",
      "metadata": {
        "id": "tVD3H1HpfsV8"
      },
      "source": [
        "#Loading Data"
      ]
    },
    {
      "cell_type": "code",
      "metadata": {
        "colab": {
          "base_uri": "https://localhost:8080/"
        },
        "id": "qwbm6QCmjVCY",
        "outputId": "d439ddc0-f80f-4700-d435-78f55f300136"
      },
      "source": [
        "!gdown  --id 1ndXGlbvZ9afiqmhLBoHXt3E_HAU29Luu"
      ],
      "execution_count": null,
      "outputs": [
        {
          "output_type": "stream",
          "text": [
            "Downloading...\n",
            "From: https://drive.google.com/uc?id=1ndXGlbvZ9afiqmhLBoHXt3E_HAU29Luu\n",
            "To: /content/loan_new.csv\n",
            "\r  0% 0.00/33.8k [00:00<?, ?B/s]\r100% 33.8k/33.8k [00:00<00:00, 12.5MB/s]\n"
          ],
          "name": "stdout"
        }
      ]
    },
    {
      "cell_type": "code",
      "metadata": {
        "id": "QXBxI_svfsV-"
      },
      "source": [
        "df = sc.textFile(\"loan_new.csv\")"
      ],
      "execution_count": null,
      "outputs": []
    },
    {
      "cell_type": "code",
      "metadata": {
        "colab": {
          "base_uri": "https://localhost:8080/"
        },
        "id": "dRmJZIAcfsV_",
        "outputId": "1d632d17-0623-48e4-d837-447eef598bb3"
      },
      "source": [
        "type(df)"
      ],
      "execution_count": null,
      "outputs": [
        {
          "output_type": "execute_result",
          "data": {
            "text/plain": [
              "pyspark.rdd.RDD"
            ]
          },
          "metadata": {
            "tags": []
          },
          "execution_count": 50
        }
      ]
    },
    {
      "cell_type": "code",
      "metadata": {
        "colab": {
          "base_uri": "https://localhost:8080/"
        },
        "id": "P-nUg11ifsWA",
        "outputId": "2885b86f-9962-4a40-f96d-85a20cc15482"
      },
      "source": [
        "df.take(5)"
      ],
      "execution_count": null,
      "outputs": [
        {
          "output_type": "execute_result",
          "data": {
            "text/plain": [
              "[',Loan_ID,Gender,Married,Dependents,Education,Self_Employed,ApplicantIncome,CoapplicantIncome,LoanAmount,Loan_Amount_Term,Credit_History,Property_Area,Loan_Status',\n",
              " '0,LP001002,1,0,0,0,0,5849,0.0,146.41216216216216,360.0,1.0,2,1',\n",
              " '1,LP001003,1,1,1,0,0,4583,1508.0,128.0,360.0,1.0,0,0',\n",
              " '2,LP001005,1,1,0,0,1,3000,0.0,66.0,360.0,1.0,2,1',\n",
              " '3,LP001006,1,1,0,1,0,2583,2358.0,120.0,360.0,1.0,2,1']"
            ]
          },
          "metadata": {
            "tags": []
          },
          "execution_count": 51
        }
      ]
    },
    {
      "cell_type": "code",
      "metadata": {
        "colab": {
          "base_uri": "https://localhost:8080/"
        },
        "id": "ItfK7gT-fsWA",
        "outputId": "3570554e-368b-4c18-eb49-ac98f9fd63c3"
      },
      "source": [
        "df.count()"
      ],
      "execution_count": null,
      "outputs": [
        {
          "output_type": "execute_result",
          "data": {
            "text/plain": [
              "615"
            ]
          },
          "metadata": {
            "tags": []
          },
          "execution_count": 52
        }
      ]
    },
    {
      "cell_type": "code",
      "metadata": {
        "id": "LdwqWYOifsWB"
      },
      "source": [
        "header = df.first() #extract header\n",
        "df = df.filter(lambda row:row != header)   #filter out header"
      ],
      "execution_count": null,
      "outputs": []
    },
    {
      "cell_type": "code",
      "metadata": {
        "colab": {
          "base_uri": "https://localhost:8080/"
        },
        "id": "3_FFLMHqfsWB",
        "outputId": "58df0cce-ccb9-419d-cc97-8e47ece40530"
      },
      "source": [
        "df.take(5)"
      ],
      "execution_count": null,
      "outputs": [
        {
          "output_type": "execute_result",
          "data": {
            "text/plain": [
              "['0,LP001002,1,0,0,0,0,5849,0.0,146.41216216216216,360.0,1.0,2,1',\n",
              " '1,LP001003,1,1,1,0,0,4583,1508.0,128.0,360.0,1.0,0,0',\n",
              " '2,LP001005,1,1,0,0,1,3000,0.0,66.0,360.0,1.0,2,1',\n",
              " '3,LP001006,1,1,0,1,0,2583,2358.0,120.0,360.0,1.0,2,1',\n",
              " '4,LP001008,1,0,0,0,0,6000,0.0,141.0,360.0,1.0,2,1']"
            ]
          },
          "metadata": {
            "tags": []
          },
          "execution_count": 54
        }
      ]
    },
    {
      "cell_type": "markdown",
      "metadata": {
        "id": "pmVPsqUefsWC"
      },
      "source": [
        "#Exploratory Data Analysis"
      ]
    },
    {
      "cell_type": "code",
      "metadata": {
        "colab": {
          "base_uri": "https://localhost:8080/"
        },
        "id": "cVUG-ZmvfsWC",
        "outputId": "f714290a-237f-424a-ff8c-d9eb89be74c7"
      },
      "source": [
        "import numpy as np\n",
        "\n",
        "def parse_interaction(line):\n",
        "    line_split = line.split(\",\")\n",
        "    symbolic_indexes = [0,1,2,4,5,6,11,12,13]\n",
        "    clean_line_split = [item for i,item in enumerate(line_split) if i not in symbolic_indexes]\n",
        "    return np.array([float(x) for x in clean_line_split])\n",
        "\n",
        "vector_data = df.map(parse_interaction)\n",
        "vector_data.take(5)"
      ],
      "execution_count": null,
      "outputs": [
        {
          "output_type": "execute_result",
          "data": {
            "text/plain": [
              "[array([   0.        , 5849.        ,    0.        ,  146.41216216,\n",
              "         360.        ]),\n",
              " array([1.000e+00, 4.583e+03, 1.508e+03, 1.280e+02, 3.600e+02]),\n",
              " array([1.0e+00, 3.0e+03, 0.0e+00, 6.6e+01, 3.6e+02]),\n",
              " array([1.000e+00, 2.583e+03, 2.358e+03, 1.200e+02, 3.600e+02]),\n",
              " array([   0., 6000.,    0.,  141.,  360.])]"
            ]
          },
          "metadata": {
            "tags": []
          },
          "execution_count": 55
        }
      ]
    },
    {
      "cell_type": "code",
      "metadata": {
        "id": "KqMoQp1efsWE"
      },
      "source": [
        "from pyspark.mllib.stat import Statistics \n",
        "from math import sqrt \n",
        "\n",
        "\n",
        "summary = Statistics.colStats(vector_data)"
      ],
      "execution_count": null,
      "outputs": []
    },
    {
      "cell_type": "code",
      "metadata": {
        "colab": {
          "base_uri": "https://localhost:8080/"
        },
        "id": "sfh83ovYfsWE",
        "outputId": "7cc8c39c-7866-424c-e487-fb280f95665e"
      },
      "source": [
        "summary.mean()"
      ],
      "execution_count": null,
      "outputs": [
        {
          "output_type": "execute_result",
          "data": {
            "text/plain": [
              "array([6.53094463e-01, 5.40345928e+03, 1.62124580e+03, 1.46412162e+02,\n",
              "       3.42410423e+02])"
            ]
          },
          "metadata": {
            "tags": []
          },
          "execution_count": 57
        }
      ]
    },
    {
      "cell_type": "code",
      "metadata": {
        "colab": {
          "base_uri": "https://localhost:8080/"
        },
        "id": "8Q8kNKX7fsWF",
        "outputId": "4f2828d6-72d4-4d07-84c5-012797b65499"
      },
      "source": [
        "print (\" Dependent Statistics:\")\n",
        "print (\" Mean: \", round(summary.mean()[0],3))\n",
        "print (\" St. deviation: \", round(sqrt(summary.variance()[0]),3))\n",
        "print (\" Max value: \", round(summary.max()[0],3))\n",
        "print (\" Min value: \", round(summary.min()[0],3))\n",
        "print (\" Total value count: \", summary.count())\n",
        "print (\" Number of non-zero values: \", summary.numNonzeros()[0])"
      ],
      "execution_count": null,
      "outputs": [
        {
          "output_type": "stream",
          "text": [
            " Dependent Statistics:\n",
            " Mean:  0.653\n",
            " St. deviation:  0.476\n",
            " Max value:  1.0\n",
            " Min value:  0.0\n",
            " Total value count:  614\n",
            " Number of non-zero values:  401.0\n"
          ],
          "name": "stdout"
        }
      ]
    },
    {
      "cell_type": "code",
      "metadata": {
        "colab": {
          "base_uri": "https://localhost:8080/"
        },
        "id": "JwKo8nLbfsWF",
        "outputId": "0822cdc1-065a-406d-cac9-808a53f46e50"
      },
      "source": [
        "print (\" ApplicantIncome Statistics:\")\n",
        "print (\" Mean: \", round(summary.mean()[1],3))\n",
        "print (\" St. deviation: \", round(sqrt(summary.variance()[1]),3))\n",
        "print (\" Max value: \", round(summary.max()[1],3))\n",
        "print (\" Min value: \", round(summary.min()[1],3))\n",
        "print (\" Total value count: \", summary.count())\n",
        "print (\" Number of non-zero values: \", summary.numNonzeros()[1])"
      ],
      "execution_count": null,
      "outputs": [
        {
          "output_type": "stream",
          "text": [
            " ApplicantIncome Statistics:\n",
            " Mean:  5403.459\n",
            " St. deviation:  6109.042\n",
            " Max value:  81000.0\n",
            " Min value:  150.0\n",
            " Total value count:  614\n",
            " Number of non-zero values:  614.0\n"
          ],
          "name": "stdout"
        }
      ]
    },
    {
      "cell_type": "code",
      "metadata": {
        "colab": {
          "base_uri": "https://localhost:8080/"
        },
        "id": "iZkrLHzifsWG",
        "outputId": "551a842a-70ac-4416-e16e-e221e8ecb106"
      },
      "source": [
        "print (\" Co-ApplicantIncome Statistics:\")\n",
        "print (\" Mean: \", round(summary.mean()[2],3))\n",
        "print (\" St. deviation: \", round(sqrt(summary.variance()[2]),3))\n",
        "print (\" Max value: \", round(summary.max()[2],3))\n",
        "print (\" Min value: \", round(summary.min()[2],3))\n",
        "print (\" Total value count: \", summary.count())\n",
        "print (\" Number of non-zero values: \", summary.numNonzeros()[2])"
      ],
      "execution_count": null,
      "outputs": [
        {
          "output_type": "stream",
          "text": [
            " Co-ApplicantIncome Statistics:\n",
            " Mean:  1621.246\n",
            " St. deviation:  2926.248\n",
            " Max value:  41667.0\n",
            " Min value:  0.0\n",
            " Total value count:  614\n",
            " Number of non-zero values:  341.0\n"
          ],
          "name": "stdout"
        }
      ]
    },
    {
      "cell_type": "code",
      "metadata": {
        "colab": {
          "base_uri": "https://localhost:8080/"
        },
        "id": "PlxFexZsfsWG",
        "outputId": "eaa622f2-c012-4983-89ce-5573548a2b62"
      },
      "source": [
        "print (\" LoanAmount Statistics:\")\n",
        "print (\" Mean: \", round(summary.mean()[3],3))\n",
        "print (\" St. deviation: \", round(sqrt(summary.variance()[3]),3))\n",
        "print (\" Max value: \", round(summary.max()[3],3))\n",
        "print (\" Min value: \", round(summary.min()[3],3))\n",
        "print (\" Total value count: \", summary.count())\n",
        "print (\" Number of non-zero values: \", summary.numNonzeros()[3])"
      ],
      "execution_count": null,
      "outputs": [
        {
          "output_type": "stream",
          "text": [
            " LoanAmount Statistics:\n",
            " Mean:  146.412\n",
            " St. deviation:  84.037\n",
            " Max value:  700.0\n",
            " Min value:  9.0\n",
            " Total value count:  614\n",
            " Number of non-zero values:  614.0\n"
          ],
          "name": "stdout"
        }
      ]
    },
    {
      "cell_type": "code",
      "metadata": {
        "colab": {
          "base_uri": "https://localhost:8080/"
        },
        "id": "FG8YX-wIfsWH",
        "outputId": "212768c9-b865-457c-eddc-1964e4fa7de2"
      },
      "source": [
        "print (\" LoanAmountTerm Statistics:\")\n",
        "print (\" Mean: \", round(summary.mean()[4],3))\n",
        "print (\" St. deviation: \", round(sqrt(summary.variance()[4]),3))\n",
        "print (\" Max value: \", round(summary.max()[4],3))\n",
        "print (\" Min value: \", round(summary.min()[4],3))\n",
        "print (\" Total value count: \", summary.count())\n",
        "print (\" Number of non-zero values: \", summary.numNonzeros()[4])"
      ],
      "execution_count": null,
      "outputs": [
        {
          "output_type": "stream",
          "text": [
            " LoanAmountTerm Statistics:\n",
            " Mean:  342.41\n",
            " St. deviation:  64.429\n",
            " Max value:  480.0\n",
            " Min value:  12.0\n",
            " Total value count:  614\n",
            " Number of non-zero values:  614.0\n"
          ],
          "name": "stdout"
        }
      ]
    },
    {
      "cell_type": "markdown",
      "metadata": {
        "id": "RrYWaeNffsWH"
      },
      "source": [
        "#splitting the data"
      ]
    },
    {
      "cell_type": "code",
      "metadata": {
        "id": "NTnb5aJEfsWI"
      },
      "source": [
        "df_train, df_test = df.randomSplit([0.70,0.30])"
      ],
      "execution_count": null,
      "outputs": []
    },
    {
      "cell_type": "code",
      "metadata": {
        "colab": {
          "base_uri": "https://localhost:8080/"
        },
        "id": "7b5nCKRBfsWI",
        "outputId": "4cd6e0cb-e3a4-4a14-81ca-b61d2a51945f"
      },
      "source": [
        "df_train.take(10)"
      ],
      "execution_count": null,
      "outputs": [
        {
          "output_type": "execute_result",
          "data": {
            "text/plain": [
              "['0,LP001002,1,0,0,0,0,5849,0.0,146.41216216216216,360.0,1.0,2,1',\n",
              " '2,LP001005,1,1,0,0,1,3000,0.0,66.0,360.0,1.0,2,1',\n",
              " '5,LP001011,1,1,2,0,1,5417,4196.0,267.0,360.0,1.0,2,1',\n",
              " '6,LP001013,1,1,0,1,0,2333,1516.0,95.0,360.0,1.0,2,1',\n",
              " '8,LP001018,1,1,2,0,0,4006,1526.0,168.0,360.0,1.0,2,1',\n",
              " '10,LP001024,1,1,2,0,0,3200,700.0,70.0,360.0,1.0,2,1',\n",
              " '11,LP001027,1,1,2,0,0,2500,1840.0,109.0,360.0,1.0,2,1',\n",
              " '13,LP001029,1,0,0,0,0,1853,2840.0,114.0,360.0,1.0,0,0',\n",
              " '15,LP001032,1,0,0,0,0,4950,0.0,125.0,360.0,1.0,2,1',\n",
              " '16,LP001034,1,0,1,1,0,3596,0.0,100.0,240.0,1.0,2,1']"
            ]
          },
          "metadata": {
            "tags": []
          },
          "execution_count": 64
        }
      ]
    },
    {
      "cell_type": "code",
      "metadata": {
        "colab": {
          "base_uri": "https://localhost:8080/"
        },
        "id": "p8zxjTtCfsWI",
        "outputId": "c452485f-edc8-4833-e7e6-2f3138486d94"
      },
      "source": [
        "df_train.count()"
      ],
      "execution_count": null,
      "outputs": [
        {
          "output_type": "execute_result",
          "data": {
            "text/plain": [
              "391"
            ]
          },
          "metadata": {
            "tags": []
          },
          "execution_count": 65
        }
      ]
    },
    {
      "cell_type": "code",
      "metadata": {
        "colab": {
          "base_uri": "https://localhost:8080/"
        },
        "id": "La2ET4cqfsWJ",
        "outputId": "0649f712-ec06-4909-fa83-3e15c327b0c1"
      },
      "source": [
        "df_test.count()"
      ],
      "execution_count": null,
      "outputs": [
        {
          "output_type": "execute_result",
          "data": {
            "text/plain": [
              "223"
            ]
          },
          "metadata": {
            "tags": []
          },
          "execution_count": 66
        }
      ]
    },
    {
      "cell_type": "markdown",
      "metadata": {
        "id": "QmgcnfHNfsWJ"
      },
      "source": [
        "#Removing the categorical data "
      ]
    },
    {
      "cell_type": "code",
      "metadata": {
        "id": "JJQZ66GLfsWJ"
      },
      "source": [
        "from pyspark.mllib.regression import LabeledPoint\n",
        "from numpy import array\n",
        "\n",
        "def parse_interaction(line):\n",
        "    line_split = line.split(\",\")\n",
        "    clean_line_split = line_split[2:13]\n",
        "    Loan_Status = 1.0\n",
        "    if line_split[13]=='0':\n",
        "        Loan_Status = 0.0\n",
        "    return LabeledPoint(Loan_Status, array([float(x) for x in clean_line_split]))"
      ],
      "execution_count": null,
      "outputs": []
    },
    {
      "cell_type": "code",
      "metadata": {
        "id": "uv5gz_OwfsWK"
      },
      "source": [
        "training_data = df_train.map(parse_interaction)"
      ],
      "execution_count": null,
      "outputs": []
    },
    {
      "cell_type": "code",
      "metadata": {
        "colab": {
          "base_uri": "https://localhost:8080/"
        },
        "id": "jASX4C19fsWK",
        "outputId": "bcf620cc-eb25-4f23-d14e-6d784d1e159a"
      },
      "source": [
        "df_train.take(5)"
      ],
      "execution_count": null,
      "outputs": [
        {
          "output_type": "execute_result",
          "data": {
            "text/plain": [
              "['0,LP001002,1,0,0,0,0,5849,0.0,146.41216216216216,360.0,1.0,2,1',\n",
              " '2,LP001005,1,1,0,0,1,3000,0.0,66.0,360.0,1.0,2,1',\n",
              " '5,LP001011,1,1,2,0,1,5417,4196.0,267.0,360.0,1.0,2,1',\n",
              " '6,LP001013,1,1,0,1,0,2333,1516.0,95.0,360.0,1.0,2,1',\n",
              " '8,LP001018,1,1,2,0,0,4006,1526.0,168.0,360.0,1.0,2,1']"
            ]
          },
          "metadata": {
            "tags": []
          },
          "execution_count": 69
        }
      ]
    },
    {
      "cell_type": "code",
      "metadata": {
        "colab": {
          "base_uri": "https://localhost:8080/"
        },
        "id": "hIvfeGNMfsWK",
        "outputId": "10ead717-3c74-46d2-c27b-dfb653122bdf"
      },
      "source": [
        "training_data.take(5)"
      ],
      "execution_count": null,
      "outputs": [
        {
          "output_type": "execute_result",
          "data": {
            "text/plain": [
              "[LabeledPoint(1.0, [1.0,0.0,0.0,0.0,0.0,5849.0,0.0,146.41216216216216,360.0,1.0,2.0]),\n",
              " LabeledPoint(1.0, [1.0,1.0,0.0,0.0,1.0,3000.0,0.0,66.0,360.0,1.0,2.0]),\n",
              " LabeledPoint(1.0, [1.0,1.0,2.0,0.0,1.0,5417.0,4196.0,267.0,360.0,1.0,2.0]),\n",
              " LabeledPoint(1.0, [1.0,1.0,0.0,1.0,0.0,2333.0,1516.0,95.0,360.0,1.0,2.0]),\n",
              " LabeledPoint(1.0, [1.0,1.0,2.0,0.0,0.0,4006.0,1526.0,168.0,360.0,1.0,2.0])]"
            ]
          },
          "metadata": {
            "tags": []
          },
          "execution_count": 70
        }
      ]
    },
    {
      "cell_type": "code",
      "metadata": {
        "id": "5MZKa16yfsWL"
      },
      "source": [
        "test_data = df_test.map(parse_interaction)"
      ],
      "execution_count": null,
      "outputs": []
    },
    {
      "cell_type": "code",
      "metadata": {
        "colab": {
          "base_uri": "https://localhost:8080/"
        },
        "id": "4BjZ6-EMfsWL",
        "outputId": "79a917c4-bd92-4a17-8127-d81967902969"
      },
      "source": [
        "test_data.take(5)"
      ],
      "execution_count": null,
      "outputs": [
        {
          "output_type": "execute_result",
          "data": {
            "text/plain": [
              "[LabeledPoint(0.0, [1.0,1.0,1.0,0.0,0.0,4583.0,1508.0,128.0,360.0,1.0,0.0]),\n",
              " LabeledPoint(1.0, [1.0,1.0,0.0,1.0,0.0,2583.0,2358.0,120.0,360.0,1.0,2.0]),\n",
              " LabeledPoint(1.0, [1.0,0.0,0.0,0.0,0.0,6000.0,0.0,141.0,360.0,1.0,2.0]),\n",
              " LabeledPoint(0.0, [1.0,1.0,3.0,0.0,0.0,3036.0,2504.0,158.0,360.0,0.0,1.0]),\n",
              " LabeledPoint(0.0, [1.0,1.0,1.0,0.0,0.0,12841.0,10968.0,349.0,360.0,1.0,1.0])]"
            ]
          },
          "metadata": {
            "tags": []
          },
          "execution_count": 72
        }
      ]
    },
    {
      "cell_type": "markdown",
      "metadata": {
        "id": "Uo_agZJbfsWM"
      },
      "source": [
        "#Training the Logistic Regression Model"
      ]
    },
    {
      "cell_type": "code",
      "metadata": {
        "colab": {
          "base_uri": "https://localhost:8080/"
        },
        "id": "9QTeZUhPfsWM",
        "outputId": "286f0a60-c2c5-4e74-f7cc-ed73357c41c3"
      },
      "source": [
        "from pyspark.mllib.classification import LogisticRegressionWithLBFGS\n",
        "from time import time\n",
        "\n",
        "t0 = time()\n",
        "logit_model = LogisticRegressionWithLBFGS.train(training_data)\n",
        "tt = time() - t0\n",
        "\n",
        "print (\"Classifier trained in \",round(tt,3), \" seconds\")"
      ],
      "execution_count": null,
      "outputs": [
        {
          "output_type": "stream",
          "text": [
            "Classifier trained in  4.028  seconds\n"
          ],
          "name": "stdout"
        }
      ]
    },
    {
      "cell_type": "markdown",
      "metadata": {
        "id": "SKq0lC8JfsWM"
      },
      "source": [
        "#Evaluating the Model"
      ]
    },
    {
      "cell_type": "code",
      "metadata": {
        "id": "_WNHF6uYfsWN"
      },
      "source": [
        "labels_and_preds = test_data.map(lambda p: (p.label, logit_model.predict(p.features)))"
      ],
      "execution_count": null,
      "outputs": []
    },
    {
      "cell_type": "code",
      "metadata": {
        "colab": {
          "base_uri": "https://localhost:8080/"
        },
        "id": "t8chTrwpfsWN",
        "outputId": "c05811be-870f-4039-d0cf-fb24424cb1f9"
      },
      "source": [
        "labels_and_preds.take(5)"
      ],
      "execution_count": null,
      "outputs": [
        {
          "output_type": "execute_result",
          "data": {
            "text/plain": [
              "[(0.0, 1), (1.0, 1), (1.0, 1), (0.0, 0), (0.0, 1)]"
            ]
          },
          "metadata": {
            "tags": []
          },
          "execution_count": 75
        }
      ]
    },
    {
      "cell_type": "code",
      "metadata": {
        "colab": {
          "base_uri": "https://localhost:8080/"
        },
        "id": "0RBgnBwNfsWN",
        "outputId": "b02f4f06-7008-4d52-ddcf-66c0ffa99f52"
      },
      "source": [
        "t0 = time()\n",
        "test_accuracy = labels_and_preds.filter(lambda x : x[0] == x[1]).count() / float(test_data.count())\n",
        "tt = time() - t0\n",
        "\n",
        "print (\"Prediction made in \",round(tt,3),\" seconds. Test accuracy is \",round(test_accuracy,3))"
      ],
      "execution_count": null,
      "outputs": [
        {
          "output_type": "stream",
          "text": [
            "Prediction made in  0.59  seconds. Test accuracy is  0.807\n"
          ],
          "name": "stdout"
        }
      ]
    }
  ]
}